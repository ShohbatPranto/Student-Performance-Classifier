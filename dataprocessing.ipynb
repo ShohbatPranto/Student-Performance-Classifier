{
 "cells": [
  {
   "cell_type": "code",
   "execution_count": 2,
   "metadata": {},
   "outputs": [],
   "source": [
    "import numpy as np\n",
    "import pandas as pd"
   ]
  },
  {
   "cell_type": "markdown",
   "metadata": {},
   "source": [
    "Handling Null Values"
   ]
  },
  {
   "cell_type": "code",
   "execution_count": null,
   "metadata": {},
   "outputs": [
    {
     "data": {
      "text/html": [
       "<div>\n",
       "<style scoped>\n",
       "    .dataframe tbody tr th:only-of-type {\n",
       "        vertical-align: middle;\n",
       "    }\n",
       "\n",
       "    .dataframe tbody tr th {\n",
       "        vertical-align: top;\n",
       "    }\n",
       "\n",
       "    .dataframe thead th {\n",
       "        text-align: right;\n",
       "    }\n",
       "</style>\n",
       "<table border=\"1\" class=\"dataframe\">\n",
       "  <thead>\n",
       "    <tr style=\"text-align: right;\">\n",
       "      <th></th>\n",
       "      <th>Timestamp</th>\n",
       "      <th>Username</th>\n",
       "      <th>University</th>\n",
       "      <th>Degree</th>\n",
       "      <th>Avg_Attendance</th>\n",
       "      <th>Avg_Study_time_per_day</th>\n",
       "      <th>Extracurricular_Activities</th>\n",
       "      <th>Avg_sleep_time</th>\n",
       "      <th>Household_Size</th>\n",
       "      <th>Workout</th>\n",
       "      <th>Free_time_Activity</th>\n",
       "      <th>University_society_member</th>\n",
       "      <th>Parents_Highest_Qaulification</th>\n",
       "      <th>GPA</th>\n",
       "    </tr>\n",
       "  </thead>\n",
       "  <tbody>\n",
       "    <tr>\n",
       "      <th>0</th>\n",
       "      <td>2023/11/22 9:12:38 PM GMT+5</td>\n",
       "      <td>rayyanlaeeq@gmail.com</td>\n",
       "      <td>Fast</td>\n",
       "      <td>AI</td>\n",
       "      <td>90% - 100%</td>\n",
       "      <td>NaN</td>\n",
       "      <td>Sports</td>\n",
       "      <td>5-7 hours</td>\n",
       "      <td>5-6 members</td>\n",
       "      <td>Yes, regularly</td>\n",
       "      <td>Reading</td>\n",
       "      <td>No</td>\n",
       "      <td>Master's Degree</td>\n",
       "      <td>3.0 - 3.9</td>\n",
       "    </tr>\n",
       "    <tr>\n",
       "      <th>1</th>\n",
       "      <td>2023/11/23 8:25:45 PM GMT+5</td>\n",
       "      <td>NaN</td>\n",
       "      <td>Fast NU</td>\n",
       "      <td>BS AI</td>\n",
       "      <td>90% - 100%</td>\n",
       "      <td>NaN</td>\n",
       "      <td>Sports</td>\n",
       "      <td>5-7 hours</td>\n",
       "      <td>5-6 members</td>\n",
       "      <td>Yes, regularly</td>\n",
       "      <td>Watching TV/Movies</td>\n",
       "      <td>Yes</td>\n",
       "      <td>Master's Degree</td>\n",
       "      <td>3.0 - 3.9</td>\n",
       "    </tr>\n",
       "    <tr>\n",
       "      <th>2</th>\n",
       "      <td>2023/11/23 8:25:48 PM GMT+5</td>\n",
       "      <td>NaN</td>\n",
       "      <td>FAST-NU</td>\n",
       "      <td>BS-AI</td>\n",
       "      <td>90% - 100%</td>\n",
       "      <td>NaN</td>\n",
       "      <td>Gaming</td>\n",
       "      <td>5-7 hours</td>\n",
       "      <td>5-6 members</td>\n",
       "      <td>Yes, regularly</td>\n",
       "      <td>Watching TV/Movies</td>\n",
       "      <td>No</td>\n",
       "      <td>Master's Degree</td>\n",
       "      <td>3.0 - 3.9</td>\n",
       "    </tr>\n",
       "    <tr>\n",
       "      <th>3</th>\n",
       "      <td>2023/11/24 12:47:21 PM GMT+5</td>\n",
       "      <td>NaN</td>\n",
       "      <td>Fast</td>\n",
       "      <td>Bscs</td>\n",
       "      <td>80%-90%</td>\n",
       "      <td>5-6 hours</td>\n",
       "      <td>Academic Clubs</td>\n",
       "      <td>5-7 hours</td>\n",
       "      <td>3-4 members</td>\n",
       "      <td>Occasionally</td>\n",
       "      <td>Watching TV/Movies</td>\n",
       "      <td>Yes</td>\n",
       "      <td>Bachelor's Degree</td>\n",
       "      <td>2.0 - 2.9</td>\n",
       "    </tr>\n",
       "    <tr>\n",
       "      <th>4</th>\n",
       "      <td>2023/11/24 3:03:49 PM GMT+5</td>\n",
       "      <td>NaN</td>\n",
       "      <td>Fast</td>\n",
       "      <td>Artificial intelligence</td>\n",
       "      <td>80%-90%</td>\n",
       "      <td>1-2 hours</td>\n",
       "      <td>Sports</td>\n",
       "      <td>5-7 hours</td>\n",
       "      <td>5-6 members</td>\n",
       "      <td>No, I don't</td>\n",
       "      <td>Watching TV/Movies</td>\n",
       "      <td>No</td>\n",
       "      <td>Master's Degree</td>\n",
       "      <td>3.0 - 3.9</td>\n",
       "    </tr>\n",
       "    <tr>\n",
       "      <th>...</th>\n",
       "      <td>...</td>\n",
       "      <td>...</td>\n",
       "      <td>...</td>\n",
       "      <td>...</td>\n",
       "      <td>...</td>\n",
       "      <td>...</td>\n",
       "      <td>...</td>\n",
       "      <td>...</td>\n",
       "      <td>...</td>\n",
       "      <td>...</td>\n",
       "      <td>...</td>\n",
       "      <td>...</td>\n",
       "      <td>...</td>\n",
       "      <td>...</td>\n",
       "    </tr>\n",
       "    <tr>\n",
       "      <th>204</th>\n",
       "      <td>2023/12/06 3:43:42 PM GMT+5</td>\n",
       "      <td>NaN</td>\n",
       "      <td>University of Karachi.</td>\n",
       "      <td>MSc in Geography.</td>\n",
       "      <td>90% - 100%</td>\n",
       "      <td>1-2 hours</td>\n",
       "      <td>Arts and Culture;Volunteer Work</td>\n",
       "      <td>7-9 hours</td>\n",
       "      <td>7 or more members</td>\n",
       "      <td>No, I don't</td>\n",
       "      <td>Reading</td>\n",
       "      <td>No</td>\n",
       "      <td>High School Diploma or Below</td>\n",
       "      <td>3.0 - 3.9</td>\n",
       "    </tr>\n",
       "    <tr>\n",
       "      <th>205</th>\n",
       "      <td>2023/12/07 11:41:34 AM GMT+5</td>\n",
       "      <td>NaN</td>\n",
       "      <td>FAST</td>\n",
       "      <td>Bs Artificial Intelligence</td>\n",
       "      <td>80%-90%</td>\n",
       "      <td>3-4 hours</td>\n",
       "      <td>Sports</td>\n",
       "      <td>5-7 hours</td>\n",
       "      <td>5-6 members</td>\n",
       "      <td>No, I don't</td>\n",
       "      <td>Socializing with Friends</td>\n",
       "      <td>No</td>\n",
       "      <td>Master's Degree</td>\n",
       "      <td>2.0 - 2.9</td>\n",
       "    </tr>\n",
       "    <tr>\n",
       "      <th>206</th>\n",
       "      <td>2023/12/07 11:41:54 AM GMT+5</td>\n",
       "      <td>NaN</td>\n",
       "      <td>Fast</td>\n",
       "      <td>Artificial Intelligence</td>\n",
       "      <td>80%-90%</td>\n",
       "      <td>1-2 hours</td>\n",
       "      <td>Academic Clubs</td>\n",
       "      <td>Less than 5 hours</td>\n",
       "      <td>5-6 members</td>\n",
       "      <td>No, I don't</td>\n",
       "      <td>Watching TV/Movies</td>\n",
       "      <td>Yes</td>\n",
       "      <td>High School Diploma or Below</td>\n",
       "      <td>3.0 - 3.9</td>\n",
       "    </tr>\n",
       "    <tr>\n",
       "      <th>207</th>\n",
       "      <td>2023/12/07 12:38:18 PM GMT+5</td>\n",
       "      <td>NaN</td>\n",
       "      <td>Iqra University</td>\n",
       "      <td>Bs-Computer Science</td>\n",
       "      <td>90% - 100%</td>\n",
       "      <td>Less than 1 hour</td>\n",
       "      <td>Sports</td>\n",
       "      <td>5-7 hours</td>\n",
       "      <td>3-4 members</td>\n",
       "      <td>Yes, regularly</td>\n",
       "      <td>Socializing with Friends</td>\n",
       "      <td>No</td>\n",
       "      <td>Master's Degree</td>\n",
       "      <td>3.0 - 3.9</td>\n",
       "    </tr>\n",
       "    <tr>\n",
       "      <th>208</th>\n",
       "      <td>2023/12/07 9:43:30 PM GMT+5</td>\n",
       "      <td>NaN</td>\n",
       "      <td>University of karachi</td>\n",
       "      <td>MSc geography</td>\n",
       "      <td>90% - 100%</td>\n",
       "      <td>5-6 hours</td>\n",
       "      <td>Arts and Culture;Volunteer Work</td>\n",
       "      <td>5-7 hours</td>\n",
       "      <td>5-6 members</td>\n",
       "      <td>Yes, regularly</td>\n",
       "      <td>Socializing with Friends</td>\n",
       "      <td>No</td>\n",
       "      <td>High School Diploma or Below</td>\n",
       "      <td>3.0 - 3.9</td>\n",
       "    </tr>\n",
       "  </tbody>\n",
       "</table>\n",
       "<p>209 rows × 14 columns</p>\n",
       "</div>"
      ],
      "text/plain": [
       "                        Timestamp               Username  \\\n",
       "0     2023/11/22 9:12:38 PM GMT+5  rayyanlaeeq@gmail.com   \n",
       "1     2023/11/23 8:25:45 PM GMT+5                    NaN   \n",
       "2     2023/11/23 8:25:48 PM GMT+5                    NaN   \n",
       "3    2023/11/24 12:47:21 PM GMT+5                    NaN   \n",
       "4     2023/11/24 3:03:49 PM GMT+5                    NaN   \n",
       "..                            ...                    ...   \n",
       "204   2023/12/06 3:43:42 PM GMT+5                    NaN   \n",
       "205  2023/12/07 11:41:34 AM GMT+5                    NaN   \n",
       "206  2023/12/07 11:41:54 AM GMT+5                    NaN   \n",
       "207  2023/12/07 12:38:18 PM GMT+5                    NaN   \n",
       "208   2023/12/07 9:43:30 PM GMT+5                    NaN   \n",
       "\n",
       "                 University                      Degree Avg_Attendance  \\\n",
       "0                      Fast                          AI     90% - 100%   \n",
       "1                   Fast NU                       BS AI     90% - 100%   \n",
       "2                   FAST-NU                       BS-AI     90% - 100%   \n",
       "3                     Fast                         Bscs        80%-90%   \n",
       "4                      Fast    Artificial intelligence         80%-90%   \n",
       "..                      ...                         ...            ...   \n",
       "204  University of Karachi.           MSc in Geography.     90% - 100%   \n",
       "205                    FAST  Bs Artificial Intelligence        80%-90%   \n",
       "206                    Fast     Artificial Intelligence        80%-90%   \n",
       "207         Iqra University         Bs-Computer Science     90% - 100%   \n",
       "208   University of karachi              MSc geography      90% - 100%   \n",
       "\n",
       "    Avg_Study_time_per_day       Extracurricular_Activities  \\\n",
       "0                      NaN                           Sports   \n",
       "1                      NaN                           Sports   \n",
       "2                      NaN                           Gaming   \n",
       "3                5-6 hours                   Academic Clubs   \n",
       "4                1-2 hours                           Sports   \n",
       "..                     ...                              ...   \n",
       "204              1-2 hours  Arts and Culture;Volunteer Work   \n",
       "205              3-4 hours                           Sports   \n",
       "206              1-2 hours                   Academic Clubs   \n",
       "207       Less than 1 hour                           Sports   \n",
       "208              5-6 hours  Arts and Culture;Volunteer Work   \n",
       "\n",
       "        Avg_sleep_time     Household_Size         Workout  \\\n",
       "0            5-7 hours        5-6 members  Yes, regularly   \n",
       "1            5-7 hours        5-6 members  Yes, regularly   \n",
       "2            5-7 hours        5-6 members  Yes, regularly   \n",
       "3            5-7 hours        3-4 members    Occasionally   \n",
       "4            5-7 hours        5-6 members     No, I don't   \n",
       "..                 ...                ...             ...   \n",
       "204          7-9 hours  7 or more members     No, I don't   \n",
       "205          5-7 hours        5-6 members     No, I don't   \n",
       "206  Less than 5 hours        5-6 members     No, I don't   \n",
       "207          5-7 hours        3-4 members  Yes, regularly   \n",
       "208          5-7 hours        5-6 members  Yes, regularly   \n",
       "\n",
       "           Free_time_Activity University_society_member  \\\n",
       "0                     Reading                        No   \n",
       "1          Watching TV/Movies                       Yes   \n",
       "2          Watching TV/Movies                        No   \n",
       "3          Watching TV/Movies                       Yes   \n",
       "4          Watching TV/Movies                        No   \n",
       "..                        ...                       ...   \n",
       "204                   Reading                        No   \n",
       "205  Socializing with Friends                        No   \n",
       "206        Watching TV/Movies                       Yes   \n",
       "207  Socializing with Friends                        No   \n",
       "208  Socializing with Friends                        No   \n",
       "\n",
       "    Parents_Highest_Qaulification        GPA  \n",
       "0                 Master's Degree  3.0 - 3.9  \n",
       "1                 Master's Degree  3.0 - 3.9  \n",
       "2                 Master's Degree  3.0 - 3.9  \n",
       "3               Bachelor's Degree  2.0 - 2.9  \n",
       "4                 Master's Degree  3.0 - 3.9  \n",
       "..                            ...        ...  \n",
       "204  High School Diploma or Below  3.0 - 3.9  \n",
       "205               Master's Degree  2.0 - 2.9  \n",
       "206  High School Diploma or Below  3.0 - 3.9  \n",
       "207               Master's Degree  3.0 - 3.9  \n",
       "208  High School Diploma or Below  3.0 - 3.9  \n",
       "\n",
       "[209 rows x 14 columns]"
      ]
     },
     "execution_count": 4,
     "metadata": {},
     "output_type": "execute_result"
    }
   ],
   "source": [
    "student_table = pd.read_csv('studentlifedata.csv')\n",
    "student_table.head(3)"
   ]
  },
  {
   "cell_type": "code",
   "execution_count": 5,
   "metadata": {},
   "outputs": [
    {
     "name": "stdout",
     "output_type": "stream",
     "text": [
      "(209, 14)\n"
     ]
    }
   ],
   "source": [
    "print(student_table.shape)"
   ]
  },
  {
   "cell_type": "code",
   "execution_count": 6,
   "metadata": {},
   "outputs": [
    {
     "data": {
      "text/plain": [
       "Timestamp                          0\n",
       "Username                         208\n",
       "University                         0\n",
       "Degree                             0\n",
       "Avg_Attendance                     0\n",
       "Avg_Study_time_per_day             3\n",
       "Extracurricular_Activities         0\n",
       "Avg_sleep_time                     0\n",
       "Household_Size                     0\n",
       "Workout                            0\n",
       "Free_time_Activity                 0\n",
       "University_society_member          0\n",
       "Parents_Highest_Qaulification      0\n",
       "GPA                                0\n",
       "dtype: int64"
      ]
     },
     "execution_count": 6,
     "metadata": {},
     "output_type": "execute_result"
    }
   ],
   "source": [
    "student_table.isnull().sum()"
   ]
  },
  {
   "cell_type": "markdown",
   "metadata": {},
   "source": [
    "Dropping Unnecessary columns"
   ]
  },
  {
   "cell_type": "code",
   "execution_count": 8,
   "metadata": {},
   "outputs": [
    {
     "data": {
      "text/plain": [
       "(209, 11)"
      ]
     },
     "execution_count": 8,
     "metadata": {},
     "output_type": "execute_result"
    }
   ],
   "source": [
    "student_table = student_table.drop(['Timestamp','Username','University'],axis=1)\n",
    "student_table.shape"
   ]
  },
  {
   "cell_type": "markdown",
   "metadata": {},
   "source": [
    "Dropping Rows containing null values in Avg_Study_time_per_day column"
   ]
  },
  {
   "cell_type": "code",
   "execution_count": 10,
   "metadata": {},
   "outputs": [
    {
     "name": "stdout",
     "output_type": "stream",
     "text": [
      "Shape of dataframe before dropping: (209, 11)\n",
      "Shape after dropping: (206, 11)\n"
     ]
    }
   ],
   "source": [
    "print(\"Shape of dataframe before dropping:\", student_table.shape)\n",
    "student_table = student_table.dropna(axis = 0, subset = ['Avg_Study_time_per_day'])\n",
    "print(\"Shape after dropping:\", student_table.shape)"
   ]
  },
  {
   "cell_type": "code",
   "execution_count": 11,
   "metadata": {},
   "outputs": [
    {
     "data": {
      "text/plain": [
       "Degree                           0\n",
       "Avg_Attendance                   0\n",
       "Avg_Study_time_per_day           0\n",
       "Extracurricular_Activities       0\n",
       "Avg_sleep_time                   0\n",
       "Household_Size                   0\n",
       "Workout                          0\n",
       "Free_time_Activity               0\n",
       "University_society_member        0\n",
       "Parents_Highest_Qaulification    0\n",
       "GPA                              0\n",
       "dtype: int64"
      ]
     },
     "execution_count": 11,
     "metadata": {},
     "output_type": "execute_result"
    }
   ],
   "source": [
    "student_table.isnull().sum()"
   ]
  },
  {
   "cell_type": "code",
   "execution_count": 12,
   "metadata": {},
   "outputs": [
    {
     "name": "stdout",
     "output_type": "stream",
     "text": [
      "<class 'pandas.core.frame.DataFrame'>\n",
      "Int64Index: 206 entries, 3 to 208\n",
      "Data columns (total 11 columns):\n",
      " #   Column                         Non-Null Count  Dtype \n",
      "---  ------                         --------------  ----- \n",
      " 0   Degree                         206 non-null    object\n",
      " 1   Avg_Attendance                 206 non-null    object\n",
      " 2   Avg_Study_time_per_day         206 non-null    object\n",
      " 3   Extracurricular_Activities     206 non-null    object\n",
      " 4   Avg_sleep_time                 206 non-null    object\n",
      " 5   Household_Size                 206 non-null    object\n",
      " 6   Workout                        206 non-null    object\n",
      " 7   Free_time_Activity             206 non-null    object\n",
      " 8   University_society_member      206 non-null    object\n",
      " 9   Parents_Highest_Qaulification  206 non-null    object\n",
      " 10  GPA                            206 non-null    object\n",
      "dtypes: object(11)\n",
      "memory usage: 19.3+ KB\n"
     ]
    }
   ],
   "source": [
    "student_table.info()"
   ]
  }
 ],
 "metadata": {
  "kernelspec": {
   "display_name": "base",
   "language": "python",
   "name": "python3"
  },
  "language_info": {
   "codemirror_mode": {
    "name": "ipython",
    "version": 3
   },
   "file_extension": ".py",
   "mimetype": "text/x-python",
   "name": "python",
   "nbconvert_exporter": "python",
   "pygments_lexer": "ipython3",
   "version": "3.9.12"
  }
 },
 "nbformat": 4,
 "nbformat_minor": 2
}
