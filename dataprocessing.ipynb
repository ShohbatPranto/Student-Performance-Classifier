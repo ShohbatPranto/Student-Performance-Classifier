{
 "cells": [
  {
   "cell_type": "code",
   "execution_count": 1,
   "metadata": {},
   "outputs": [],
   "source": [
    "import numpy as np\n",
    "import pandas as pd"
   ]
  },
  {
   "cell_type": "markdown",
   "metadata": {},
   "source": [
    "Handling Null Values"
   ]
  },
  {
   "cell_type": "code",
   "execution_count": 2,
   "metadata": {},
   "outputs": [
    {
     "data": {
      "text/html": [
       "<div>\n",
       "<style scoped>\n",
       "    .dataframe tbody tr th:only-of-type {\n",
       "        vertical-align: middle;\n",
       "    }\n",
       "\n",
       "    .dataframe tbody tr th {\n",
       "        vertical-align: top;\n",
       "    }\n",
       "\n",
       "    .dataframe thead th {\n",
       "        text-align: right;\n",
       "    }\n",
       "</style>\n",
       "<table border=\"1\" class=\"dataframe\">\n",
       "  <thead>\n",
       "    <tr style=\"text-align: right;\">\n",
       "      <th></th>\n",
       "      <th>Timestamp</th>\n",
       "      <th>Username</th>\n",
       "      <th>University</th>\n",
       "      <th>Degree</th>\n",
       "      <th>Avg_Attendance</th>\n",
       "      <th>Avg_Study_time_per_day</th>\n",
       "      <th>Extracurricular_Activities</th>\n",
       "      <th>Avg_sleep_time</th>\n",
       "      <th>Household_Size</th>\n",
       "      <th>Workout</th>\n",
       "      <th>Free_time_Activity</th>\n",
       "      <th>University_society_member</th>\n",
       "      <th>Parents_Highest_Qaulification</th>\n",
       "      <th>GPA</th>\n",
       "    </tr>\n",
       "  </thead>\n",
       "  <tbody>\n",
       "    <tr>\n",
       "      <th>0</th>\n",
       "      <td>2023/11/22 9:12:38 PM GMT+5</td>\n",
       "      <td>rayyanlaeeq@gmail.com</td>\n",
       "      <td>Fast</td>\n",
       "      <td>AI</td>\n",
       "      <td>90% - 100%</td>\n",
       "      <td>NaN</td>\n",
       "      <td>Sports</td>\n",
       "      <td>5-7 hours</td>\n",
       "      <td>5-6 members</td>\n",
       "      <td>Yes, regularly</td>\n",
       "      <td>Reading</td>\n",
       "      <td>No</td>\n",
       "      <td>Master's Degree</td>\n",
       "      <td>3.0 - 3.9</td>\n",
       "    </tr>\n",
       "    <tr>\n",
       "      <th>1</th>\n",
       "      <td>2023/11/23 8:25:45 PM GMT+5</td>\n",
       "      <td>NaN</td>\n",
       "      <td>Fast NU</td>\n",
       "      <td>BS AI</td>\n",
       "      <td>90% - 100%</td>\n",
       "      <td>NaN</td>\n",
       "      <td>Sports</td>\n",
       "      <td>5-7 hours</td>\n",
       "      <td>5-6 members</td>\n",
       "      <td>Yes, regularly</td>\n",
       "      <td>Watching TV/Movies</td>\n",
       "      <td>Yes</td>\n",
       "      <td>Master's Degree</td>\n",
       "      <td>3.0 - 3.9</td>\n",
       "    </tr>\n",
       "    <tr>\n",
       "      <th>2</th>\n",
       "      <td>2023/11/23 8:25:48 PM GMT+5</td>\n",
       "      <td>NaN</td>\n",
       "      <td>FAST-NU</td>\n",
       "      <td>BS-AI</td>\n",
       "      <td>90% - 100%</td>\n",
       "      <td>NaN</td>\n",
       "      <td>Gaming</td>\n",
       "      <td>5-7 hours</td>\n",
       "      <td>5-6 members</td>\n",
       "      <td>Yes, regularly</td>\n",
       "      <td>Watching TV/Movies</td>\n",
       "      <td>No</td>\n",
       "      <td>Master's Degree</td>\n",
       "      <td>3.0 - 3.9</td>\n",
       "    </tr>\n",
       "  </tbody>\n",
       "</table>\n",
       "</div>"
      ],
      "text/plain": [
       "                     Timestamp               Username University Degree  \\\n",
       "0  2023/11/22 9:12:38 PM GMT+5  rayyanlaeeq@gmail.com       Fast     AI   \n",
       "1  2023/11/23 8:25:45 PM GMT+5                    NaN    Fast NU  BS AI   \n",
       "2  2023/11/23 8:25:48 PM GMT+5                    NaN    FAST-NU  BS-AI   \n",
       "\n",
       "  Avg_Attendance Avg_Study_time_per_day Extracurricular_Activities  \\\n",
       "0     90% - 100%                    NaN                     Sports   \n",
       "1     90% - 100%                    NaN                     Sports   \n",
       "2     90% - 100%                    NaN                     Gaming   \n",
       "\n",
       "  Avg_sleep_time Household_Size         Workout  Free_time_Activity  \\\n",
       "0      5-7 hours    5-6 members  Yes, regularly             Reading   \n",
       "1      5-7 hours    5-6 members  Yes, regularly  Watching TV/Movies   \n",
       "2      5-7 hours    5-6 members  Yes, regularly  Watching TV/Movies   \n",
       "\n",
       "  University_society_member Parents_Highest_Qaulification        GPA  \n",
       "0                        No               Master's Degree  3.0 - 3.9  \n",
       "1                       Yes               Master's Degree  3.0 - 3.9  \n",
       "2                        No               Master's Degree  3.0 - 3.9  "
      ]
     },
     "execution_count": 2,
     "metadata": {},
     "output_type": "execute_result"
    }
   ],
   "source": [
    "student_table = pd.read_csv('studentlifedata.csv')\n",
    "student_table.head(3)"
   ]
  },
  {
   "cell_type": "code",
   "execution_count": 3,
   "metadata": {},
   "outputs": [
    {
     "name": "stdout",
     "output_type": "stream",
     "text": [
      "(209, 14)\n"
     ]
    }
   ],
   "source": [
    "print(student_table.shape)"
   ]
  },
  {
   "cell_type": "code",
   "execution_count": 4,
   "metadata": {},
   "outputs": [
    {
     "data": {
      "text/plain": [
       "Timestamp                          0\n",
       "Username                         208\n",
       "University                         0\n",
       "Degree                             0\n",
       "Avg_Attendance                     0\n",
       "Avg_Study_time_per_day             3\n",
       "Extracurricular_Activities         4\n",
       "Avg_sleep_time                     0\n",
       "Household_Size                     0\n",
       "Workout                            0\n",
       "Free_time_Activity                 0\n",
       "University_society_member          0\n",
       "Parents_Highest_Qaulification      0\n",
       "GPA                                0\n",
       "dtype: int64"
      ]
     },
     "execution_count": 4,
     "metadata": {},
     "output_type": "execute_result"
    }
   ],
   "source": [
    "student_table.isnull().sum()"
   ]
  },
  {
   "cell_type": "markdown",
   "metadata": {},
   "source": [
    "Dropping Unnecessary columns"
   ]
  },
  {
   "cell_type": "code",
   "execution_count": 5,
   "metadata": {},
   "outputs": [
    {
     "data": {
      "text/plain": [
       "(209, 11)"
      ]
     },
     "execution_count": 5,
     "metadata": {},
     "output_type": "execute_result"
    }
   ],
   "source": [
    "student_table = student_table.drop(['Timestamp','Username','University'],axis=1)\n",
    "student_table.shape"
   ]
  },
  {
   "cell_type": "markdown",
   "metadata": {},
   "source": [
    "Dropping Rows containing null values in Avg_Study_time_per_day column"
   ]
  },
  {
   "cell_type": "code",
   "execution_count": 6,
   "metadata": {},
   "outputs": [
    {
     "name": "stdout",
     "output_type": "stream",
     "text": [
      "Shape of dataframe before dropping: (209, 11)\n",
      "Shape after dropping: (206, 11)\n"
     ]
    }
   ],
   "source": [
    "print(\"Shape of dataframe before dropping:\", student_table.shape)\n",
    "student_table = student_table.dropna(axis = 0, subset = ['Avg_Study_time_per_day'])\n",
    "print(\"Shape after dropping:\", student_table.shape)"
   ]
  },
  {
   "cell_type": "code",
   "execution_count": 7,
   "metadata": {},
   "outputs": [
    {
     "data": {
      "text/plain": [
       "Degree                           0\n",
       "Avg_Attendance                   0\n",
       "Avg_Study_time_per_day           0\n",
       "Extracurricular_Activities       4\n",
       "Avg_sleep_time                   0\n",
       "Household_Size                   0\n",
       "Workout                          0\n",
       "Free_time_Activity               0\n",
       "University_society_member        0\n",
       "Parents_Highest_Qaulification    0\n",
       "GPA                              0\n",
       "dtype: int64"
      ]
     },
     "execution_count": 7,
     "metadata": {},
     "output_type": "execute_result"
    }
   ],
   "source": [
    "student_table.isnull().sum()"
   ]
  },
  {
   "cell_type": "code",
   "execution_count": 8,
   "metadata": {},
   "outputs": [
    {
     "name": "stdout",
     "output_type": "stream",
     "text": [
      "<class 'pandas.core.frame.DataFrame'>\n",
      "Index: 206 entries, 3 to 208\n",
      "Data columns (total 11 columns):\n",
      " #   Column                         Non-Null Count  Dtype \n",
      "---  ------                         --------------  ----- \n",
      " 0   Degree                         206 non-null    object\n",
      " 1   Avg_Attendance                 206 non-null    object\n",
      " 2   Avg_Study_time_per_day         206 non-null    object\n",
      " 3   Extracurricular_Activities     202 non-null    object\n",
      " 4   Avg_sleep_time                 206 non-null    object\n",
      " 5   Household_Size                 206 non-null    object\n",
      " 6   Workout                        206 non-null    object\n",
      " 7   Free_time_Activity             206 non-null    object\n",
      " 8   University_society_member      206 non-null    object\n",
      " 9   Parents_Highest_Qaulification  206 non-null    object\n",
      " 10  GPA                            206 non-null    object\n",
      "dtypes: object(11)\n",
      "memory usage: 19.3+ KB\n"
     ]
    }
   ],
   "source": [
    "student_table.info()"
   ]
  },
  {
   "cell_type": "markdown",
   "metadata": {},
   "source": [
    "Standardizing the values of column Degree, since there are numerous variations of similar degree"
   ]
  },
  {
   "cell_type": "code",
   "execution_count": 9,
   "metadata": {},
   "outputs": [],
   "source": [
    "from rapidfuzz import process"
   ]
  },
  {
   "cell_type": "code",
   "execution_count": 10,
   "metadata": {},
   "outputs": [
    {
     "data": {
      "text/plain": [
       "3                                   Other\n",
       "4    Bachelors of Artificial Intelligence\n",
       "5    Bachelors of Artificial Intelligence\n",
       "6    Bachelors of Artificial Intelligence\n",
       "7                                   Other\n",
       "Name: Degree, dtype: object"
      ]
     },
     "execution_count": 10,
     "metadata": {},
     "output_type": "execute_result"
    }
   ],
   "source": [
    "standardized_degrees = ['Bachelors of Artificial Intelligence', 'Bachelors of Computer Science', 'Bachelors of Cyber Security', 'Bachelors of Software Engineering', 'Bachelors of Information Technology', 'Bachelors of Biotechnology', 'BBA', 'Bachelors of Electrical Engineering', 'Bachelors of Civil Engineering', 'Bachelors of Geography', 'Biology', 'Bachelors of Media Science', 'Bachelors of Avionics', 'Bachelors of Finance and Accounting', 'Doctor of Pharmacy', 'Doctor of Physical Therapy', 'Bachelors of Physics', 'Bachelors of Textile Engineering', 'Bachelors of Maritime', 'Bachelors of Industrial']\n",
    "\n",
    "\n",
    "# Function to match degrees\n",
    "def standardize_degree(value, choices):\n",
    "    if pd.notnull(value):\n",
    "        match = process.extractOne(value, choices)  # Get the best match\n",
    "        return match[0] if match[1] >= 80 else 'Other'  # Set a threshold for matching\n",
    "    return value\n",
    "\n",
    "# Apply the function to the 'degree' column\n",
    "student_table['Degree'] = student_table['Degree'].apply(lambda x: standardize_degree(x, standardized_degrees))\n",
    "student_table['Degree'].head(5)"
   ]
  },
  {
   "cell_type": "code",
   "execution_count": 11,
   "metadata": {},
   "outputs": [
    {
     "data": {
      "text/plain": [
       "array(['Other', 'Bachelors of Artificial Intelligence',\n",
       "       'Bachelors of Cyber Security', 'Bachelors of Computer Science',\n",
       "       'Bachelors of Physics', 'BBA', 'Biology',\n",
       "       'Bachelors of Software Engineering',\n",
       "       'Bachelors of Information Technology',\n",
       "       'Bachelors of Media Science', 'Bachelors of Geography',\n",
       "       'Bachelors of Finance and Accounting', 'Doctor of Pharmacy',\n",
       "       'Bachelors of Biotechnology', 'Bachelors of Textile Engineering',\n",
       "       'Bachelors of Civil Engineering',\n",
       "       'Bachelors of Electrical Engineering',\n",
       "       'Doctor of Physical Therapy'], dtype=object)"
      ]
     },
     "execution_count": 11,
     "metadata": {},
     "output_type": "execute_result"
    }
   ],
   "source": [
    "student_table['Degree'].unique()"
   ]
  },
  {
   "cell_type": "code",
   "execution_count": null,
   "metadata": {},
   "outputs": [],
   "source": []
  }
 ],
 "metadata": {
  "kernelspec": {
   "display_name": "Python 3",
   "language": "python",
   "name": "python3"
  },
  "language_info": {
   "codemirror_mode": {
    "name": "ipython",
    "version": 3
   },
   "file_extension": ".py",
   "mimetype": "text/x-python",
   "name": "python",
   "nbconvert_exporter": "python",
   "pygments_lexer": "ipython3",
   "version": "3.11.5"
  }
 },
 "nbformat": 4,
 "nbformat_minor": 2
}
